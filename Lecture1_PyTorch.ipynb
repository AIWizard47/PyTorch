{
  "nbformat": 4,
  "nbformat_minor": 0,
  "metadata": {
    "colab": {
      "provenance": [],
      "gpuType": "T4"
    },
    "kernelspec": {
      "name": "python3",
      "display_name": "Python 3"
    },
    "language_info": {
      "name": "python"
    },
    "accelerator": "GPU"
  },
  "cells": [
    {
      "cell_type": "code",
      "source": [
        "import torch\n",
        "import pandas as pd\n",
        "import numpy as np\n",
        "import matplotlib.pyplot as plt\n",
        "\n",
        "print(torch.__version__)"
      ],
      "metadata": {
        "colab": {
          "base_uri": "https://localhost:8080/"
        },
        "id": "r_n31A7WLTWJ",
        "outputId": "54f31300-f0c6-4a14-a24e-fe6040f2b19c"
      },
      "execution_count": 1,
      "outputs": [
        {
          "output_type": "stream",
          "name": "stdout",
          "text": [
            "2.2.1+cu121\n"
          ]
        }
      ]
    },
    {
      "cell_type": "code",
      "source": [
        "scalar = torch.tensor(5)\n",
        "scalar"
      ],
      "metadata": {
        "colab": {
          "base_uri": "https://localhost:8080/"
        },
        "id": "jLLZgPoINAfe",
        "outputId": "f427bc09-994d-4d53-fa5b-8dba0063f75a"
      },
      "execution_count": 2,
      "outputs": [
        {
          "output_type": "execute_result",
          "data": {
            "text/plain": [
              "tensor(5)"
            ]
          },
          "metadata": {},
          "execution_count": 2
        }
      ]
    },
    {
      "cell_type": "markdown",
      "source": [
        "**we get scalar number from tensor from dimension**"
      ],
      "metadata": {
        "id": "1hcGr0F8PlQK"
      }
    },
    {
      "cell_type": "code",
      "source": [
        "scalar.ndim\n",
        "scalar.item()"
      ],
      "metadata": {
        "colab": {
          "base_uri": "https://localhost:8080/"
        },
        "id": "jGAIQQUxOeEV",
        "outputId": "c570b77d-0caa-45ff-c026-9dc448e5897f"
      },
      "execution_count": 3,
      "outputs": [
        {
          "output_type": "execute_result",
          "data": {
            "text/plain": [
              "5"
            ]
          },
          "metadata": {},
          "execution_count": 3
        }
      ]
    },
    {
      "cell_type": "code",
      "source": [
        "vector = torch.tensor([3,4])\n",
        "vector"
      ],
      "metadata": {
        "colab": {
          "base_uri": "https://localhost:8080/"
        },
        "id": "BDKWK2_VPbl6",
        "outputId": "b7eb1521-1d30-4f79-d989-02c6d6f92220"
      },
      "execution_count": 4,
      "outputs": [
        {
          "output_type": "execute_result",
          "data": {
            "text/plain": [
              "tensor([3, 4])"
            ]
          },
          "metadata": {},
          "execution_count": 4
        }
      ]
    },
    {
      "cell_type": "code",
      "source": [
        "vector.ndim"
      ],
      "metadata": {
        "colab": {
          "base_uri": "https://localhost:8080/"
        },
        "id": "ewY87cnjRCvf",
        "outputId": "6ad5bd1f-e831-4c91-b0d3-46ca40b287ed"
      },
      "execution_count": 5,
      "outputs": [
        {
          "output_type": "execute_result",
          "data": {
            "text/plain": [
              "1"
            ]
          },
          "metadata": {},
          "execution_count": 5
        }
      ]
    },
    {
      "cell_type": "code",
      "source": [
        "vector.shape"
      ],
      "metadata": {
        "colab": {
          "base_uri": "https://localhost:8080/"
        },
        "id": "ZyTtMFWhRE-q",
        "outputId": "c3145335-0b60-4308-8526-6b62654c92ce"
      },
      "execution_count": 6,
      "outputs": [
        {
          "output_type": "execute_result",
          "data": {
            "text/plain": [
              "torch.Size([2])"
            ]
          },
          "metadata": {},
          "execution_count": 6
        }
      ]
    },
    {
      "cell_type": "code",
      "source": [
        "matrix = torch.tensor([[3,5],\n",
        "                       [4,2]])\n",
        "matrix"
      ],
      "metadata": {
        "colab": {
          "base_uri": "https://localhost:8080/"
        },
        "id": "ta24koU0RlI0",
        "outputId": "c282eab6-a9f9-4743-bd4d-f0d839782603"
      },
      "execution_count": 7,
      "outputs": [
        {
          "output_type": "execute_result",
          "data": {
            "text/plain": [
              "tensor([[3, 5],\n",
              "        [4, 2]])"
            ]
          },
          "metadata": {},
          "execution_count": 7
        }
      ]
    },
    {
      "cell_type": "code",
      "source": [
        "matrix.ndim"
      ],
      "metadata": {
        "colab": {
          "base_uri": "https://localhost:8080/"
        },
        "id": "fzDxZwhyS7qV",
        "outputId": "ded41641-ecdd-41ed-82ac-cbd39e26bc49"
      },
      "execution_count": 8,
      "outputs": [
        {
          "output_type": "execute_result",
          "data": {
            "text/plain": [
              "2"
            ]
          },
          "metadata": {},
          "execution_count": 8
        }
      ]
    },
    {
      "cell_type": "code",
      "source": [
        "matrix.shape"
      ],
      "metadata": {
        "colab": {
          "base_uri": "https://localhost:8080/"
        },
        "id": "A4dTJfT0TA7b",
        "outputId": "ae26a715-28c6-4686-aaa6-86061324734b"
      },
      "execution_count": 9,
      "outputs": [
        {
          "output_type": "execute_result",
          "data": {
            "text/plain": [
              "torch.Size([2, 2])"
            ]
          },
          "metadata": {},
          "execution_count": 9
        }
      ]
    },
    {
      "cell_type": "code",
      "source": [
        "print(matrix[1])\n",
        "matrix[0]"
      ],
      "metadata": {
        "colab": {
          "base_uri": "https://localhost:8080/"
        },
        "id": "1DizZvqPTESU",
        "outputId": "a085e4c1-92dd-4560-d576-0b3bb5fa1136"
      },
      "execution_count": 10,
      "outputs": [
        {
          "output_type": "stream",
          "name": "stdout",
          "text": [
            "tensor([4, 2])\n"
          ]
        },
        {
          "output_type": "execute_result",
          "data": {
            "text/plain": [
              "tensor([3, 5])"
            ]
          },
          "metadata": {},
          "execution_count": 10
        }
      ]
    },
    {
      "cell_type": "code",
      "source": [
        "TENSOR = torch.tensor([[[3,4,2],\n",
        "                        [6,2,8],\n",
        "                        [3,8,9]]])\n",
        "TENSOR"
      ],
      "metadata": {
        "colab": {
          "base_uri": "https://localhost:8080/"
        },
        "id": "v_amGGP_TMe4",
        "outputId": "88af3b7a-e552-4e41-aa4c-11bfb1089631"
      },
      "execution_count": 11,
      "outputs": [
        {
          "output_type": "execute_result",
          "data": {
            "text/plain": [
              "tensor([[[3, 4, 2],\n",
              "         [6, 2, 8],\n",
              "         [3, 8, 9]]])"
            ]
          },
          "metadata": {},
          "execution_count": 11
        }
      ]
    },
    {
      "cell_type": "code",
      "source": [
        "TENSOR.shape"
      ],
      "metadata": {
        "colab": {
          "base_uri": "https://localhost:8080/"
        },
        "id": "XWeUmNTHUvVd",
        "outputId": "b83db60e-2b7d-4461-c0b2-f29894c40a35"
      },
      "execution_count": 12,
      "outputs": [
        {
          "output_type": "execute_result",
          "data": {
            "text/plain": [
              "torch.Size([1, 3, 3])"
            ]
          },
          "metadata": {},
          "execution_count": 12
        }
      ]
    },
    {
      "cell_type": "code",
      "source": [
        "TENSOR.ndim"
      ],
      "metadata": {
        "colab": {
          "base_uri": "https://localhost:8080/"
        },
        "id": "_ODnLtUIVHIB",
        "outputId": "3d2fec93-eae8-4f34-dd5f-fd46999ab97a"
      },
      "execution_count": 13,
      "outputs": [
        {
          "output_type": "execute_result",
          "data": {
            "text/plain": [
              "3"
            ]
          },
          "metadata": {},
          "execution_count": 13
        }
      ]
    },
    {
      "cell_type": "code",
      "source": [
        "random_tensor = torch.rand(4,4,5)\n",
        "random_tensor"
      ],
      "metadata": {
        "colab": {
          "base_uri": "https://localhost:8080/"
        },
        "id": "kdXNkB2kVKvA",
        "outputId": "2dd1b88e-3cf0-4870-8cf8-5288b3886e8c"
      },
      "execution_count": 14,
      "outputs": [
        {
          "output_type": "execute_result",
          "data": {
            "text/plain": [
              "tensor([[[0.2240, 0.8699, 0.3206, 0.0758, 0.6792],\n",
              "         [0.9726, 0.4508, 0.2525, 0.5328, 0.6321],\n",
              "         [0.4633, 0.3230, 0.4964, 0.7531, 0.4459],\n",
              "         [0.7375, 0.1018, 0.1540, 0.8069, 0.7746]],\n",
              "\n",
              "        [[0.4789, 0.4610, 0.5464, 0.0701, 0.1744],\n",
              "         [0.2909, 0.1926, 0.2396, 0.5279, 0.3379],\n",
              "         [0.1102, 0.5562, 0.2043, 0.5366, 0.7605],\n",
              "         [0.7786, 0.4391, 0.0069, 0.7718, 0.6452]],\n",
              "\n",
              "        [[0.0880, 0.2627, 0.5610, 0.4960, 0.4539],\n",
              "         [0.1489, 0.5718, 0.2038, 0.8879, 0.2296],\n",
              "         [0.0405, 0.2195, 0.1645, 0.9410, 0.6124],\n",
              "         [0.7463, 0.6505, 0.6328, 0.9519, 0.5487]],\n",
              "\n",
              "        [[0.7055, 0.6126, 0.5504, 0.8462, 0.2855],\n",
              "         [0.5920, 0.9858, 0.1338, 0.5780, 0.6108],\n",
              "         [0.6089, 0.0334, 0.4411, 0.8925, 0.9013],\n",
              "         [0.2234, 0.9520, 0.5424, 0.8083, 0.2212]]])"
            ]
          },
          "metadata": {},
          "execution_count": 14
        }
      ]
    },
    {
      "cell_type": "code",
      "source": [
        "n = 5\n",
        "for i in range(n):\n",
        "  random_tensor = torch.rand(3,3)\n",
        "  print(random_tensor)"
      ],
      "metadata": {
        "colab": {
          "base_uri": "https://localhost:8080/"
        },
        "id": "FLJ4mYuoaSO0",
        "outputId": "bd1c1921-d077-42a5-9379-0f76e9e3ce73"
      },
      "execution_count": 15,
      "outputs": [
        {
          "output_type": "stream",
          "name": "stdout",
          "text": [
            "tensor([[0.5383, 0.6847, 0.2005],\n",
            "        [0.5304, 0.7643, 0.6682],\n",
            "        [0.6234, 0.8895, 0.7920]])\n",
            "tensor([[6.9730e-01, 6.6061e-01, 6.2792e-01],\n",
            "        [1.7130e-01, 9.3455e-01, 5.8699e-04],\n",
            "        [2.9534e-01, 3.3375e-01, 5.1968e-01]])\n",
            "tensor([[0.5257, 0.2305, 0.7219],\n",
            "        [0.3538, 0.3927, 0.2619],\n",
            "        [0.7282, 0.0106, 0.7066]])\n",
            "tensor([[0.5762, 0.5973, 0.2295],\n",
            "        [0.4950, 0.3002, 0.2242],\n",
            "        [0.1869, 0.4333, 0.3737]])\n",
            "tensor([[0.5396, 0.7434, 0.3412],\n",
            "        [0.9905, 0.6530, 0.6694],\n",
            "        [0.8564, 0.8906, 0.9161]])\n"
          ]
        }
      ]
    },
    {
      "cell_type": "code",
      "source": [
        "for i in range(n):\n",
        "  random_tensor = torch.rand(5,4)\n",
        "  print(random_tensor)"
      ],
      "metadata": {
        "colab": {
          "base_uri": "https://localhost:8080/"
        },
        "id": "SjunbKFgakDz",
        "outputId": "48cc5371-19b7-47a0-be51-e3c8cda16623"
      },
      "execution_count": 16,
      "outputs": [
        {
          "output_type": "stream",
          "name": "stdout",
          "text": [
            "tensor([[0.5585, 0.5660, 0.8989, 0.6308],\n",
            "        [0.0647, 0.2330, 0.1380, 0.5642],\n",
            "        [0.6088, 0.7917, 0.1962, 0.2597],\n",
            "        [0.8626, 0.5159, 0.9060, 0.1130],\n",
            "        [0.9408, 0.4799, 0.5920, 0.3990]])\n",
            "tensor([[0.2614, 0.1679, 0.6810, 0.6982],\n",
            "        [0.7118, 0.7205, 0.4009, 0.5051],\n",
            "        [0.5392, 0.1447, 0.8031, 0.9355],\n",
            "        [0.3881, 0.7123, 0.1437, 0.3263],\n",
            "        [0.2420, 0.6489, 0.1962, 0.3776]])\n",
            "tensor([[0.5849, 0.4757, 0.6158, 0.3942],\n",
            "        [0.3333, 0.6653, 0.3232, 0.1749],\n",
            "        [0.5376, 0.6012, 0.4402, 0.2434],\n",
            "        [0.3032, 0.5947, 0.1568, 0.7256],\n",
            "        [0.2678, 0.8911, 0.7522, 0.7614]])\n",
            "tensor([[0.3009, 0.1010, 0.8770, 0.1026],\n",
            "        [0.4975, 0.2972, 0.1845, 0.8577],\n",
            "        [0.1044, 0.5431, 0.7245, 0.9761],\n",
            "        [0.1326, 0.2515, 0.0157, 0.2989],\n",
            "        [0.2765, 0.4950, 0.2218, 0.2880]])\n",
            "tensor([[0.4364, 0.1584, 0.4109, 0.4480],\n",
            "        [0.3591, 0.6778, 0.2147, 0.0676],\n",
            "        [0.8796, 0.7937, 0.3090, 0.5127],\n",
            "        [0.6292, 0.3657, 0.4070, 0.6047],\n",
            "        [0.3713, 0.3916, 0.8180, 0.7060]])\n"
          ]
        }
      ]
    },
    {
      "cell_type": "code",
      "source": [
        "random_tensor_size_tensor = torch.rand(size=(3,224,224)) # this is color channel , hieght , width\n",
        "random_tensor_size_tensor.shape , random_tensor_size_tensor.ndim"
      ],
      "metadata": {
        "id": "cdAwopqJzGDl",
        "colab": {
          "base_uri": "https://localhost:8080/"
        },
        "outputId": "2800b2da-38bc-4091-809c-4fdcf8d9c806"
      },
      "execution_count": 17,
      "outputs": [
        {
          "output_type": "execute_result",
          "data": {
            "text/plain": [
              "(torch.Size([3, 224, 224]), 3)"
            ]
          },
          "metadata": {},
          "execution_count": 17
        }
      ]
    },
    {
      "cell_type": "code",
      "source": [
        "print(random_tensor_size_tensor)"
      ],
      "metadata": {
        "colab": {
          "base_uri": "https://localhost:8080/"
        },
        "id": "0IDTUzqsBnBV",
        "outputId": "63a4ec25-c2b5-4b1e-a7aa-ad311b3305bf"
      },
      "execution_count": 18,
      "outputs": [
        {
          "output_type": "stream",
          "name": "stdout",
          "text": [
            "tensor([[[0.1387, 0.7657, 0.5164,  ..., 0.4409, 0.4194, 0.9338],\n",
            "         [0.9200, 0.9982, 0.4254,  ..., 0.4917, 0.5270, 0.5354],\n",
            "         [0.6525, 0.7106, 0.1012,  ..., 0.2171, 0.8628, 0.0250],\n",
            "         ...,\n",
            "         [0.1919, 0.5448, 0.3713,  ..., 0.9751, 0.9153, 0.6837],\n",
            "         [0.5518, 0.6082, 0.7339,  ..., 0.1621, 0.0162, 0.1389],\n",
            "         [0.5963, 0.7023, 0.6196,  ..., 0.2027, 0.4180, 0.1962]],\n",
            "\n",
            "        [[0.6670, 0.9891, 0.5795,  ..., 0.0918, 0.4700, 0.6244],\n",
            "         [0.3867, 0.6301, 0.1862,  ..., 0.6987, 0.9998, 0.0758],\n",
            "         [0.3153, 0.6479, 0.1986,  ..., 0.8013, 0.3888, 0.8714],\n",
            "         ...,\n",
            "         [0.4721, 0.7227, 0.2307,  ..., 0.8648, 0.5582, 0.9748],\n",
            "         [0.1975, 0.2047, 0.9869,  ..., 0.2026, 0.7087, 0.9226],\n",
            "         [0.2065, 0.2185, 0.8976,  ..., 0.0553, 0.7200, 0.1953]],\n",
            "\n",
            "        [[0.8620, 0.5017, 0.9874,  ..., 0.2056, 0.3581, 0.8784],\n",
            "         [0.2317, 0.0020, 0.8098,  ..., 0.5914, 0.0849, 0.8340],\n",
            "         [0.5367, 0.1175, 0.4882,  ..., 0.7018, 0.2467, 0.6864],\n",
            "         ...,\n",
            "         [0.4658, 0.7047, 0.3789,  ..., 0.2766, 0.4071, 0.8355],\n",
            "         [0.5325, 0.9722, 0.8017,  ..., 0.8414, 0.5484, 0.7210],\n",
            "         [0.7670, 0.2944, 0.5775,  ..., 0.1310, 0.5799, 0.9832]]])\n"
          ]
        }
      ]
    },
    {
      "cell_type": "code",
      "source": [
        "zeros = torch.zeros(size=(3,6))\n",
        "zeros"
      ],
      "metadata": {
        "colab": {
          "base_uri": "https://localhost:8080/"
        },
        "id": "V4WVSxf5B5C9",
        "outputId": "3543219d-7173-42f6-af27-813e431b78a5"
      },
      "execution_count": 19,
      "outputs": [
        {
          "output_type": "execute_result",
          "data": {
            "text/plain": [
              "tensor([[0., 0., 0., 0., 0., 0.],\n",
              "        [0., 0., 0., 0., 0., 0.],\n",
              "        [0., 0., 0., 0., 0., 0.]])"
            ]
          },
          "metadata": {},
          "execution_count": 19
        }
      ]
    },
    {
      "cell_type": "code",
      "source": [
        "ones = torch.ones(size=(3,6))\n",
        "ones\n"
      ],
      "metadata": {
        "colab": {
          "base_uri": "https://localhost:8080/"
        },
        "id": "7RbkxfL6E9m2",
        "outputId": "33d892a2-2735-48b6-d067-51d83731467d"
      },
      "execution_count": 20,
      "outputs": [
        {
          "output_type": "execute_result",
          "data": {
            "text/plain": [
              "tensor([[1., 1., 1., 1., 1., 1.],\n",
              "        [1., 1., 1., 1., 1., 1.],\n",
              "        [1., 1., 1., 1., 1., 1.]])"
            ]
          },
          "metadata": {},
          "execution_count": 20
        }
      ]
    },
    {
      "cell_type": "code",
      "source": [
        "tensor_rand = torch.rand(size=(3,6))\n",
        "tensor_rand , tensor_rand * zeros , tensor_rand * ones"
      ],
      "metadata": {
        "colab": {
          "base_uri": "https://localhost:8080/"
        },
        "id": "rg3d1kdRFDdr",
        "outputId": "892c77aa-1860-4f75-cd50-72c8b0b70b06"
      },
      "execution_count": 21,
      "outputs": [
        {
          "output_type": "execute_result",
          "data": {
            "text/plain": [
              "(tensor([[0.6103, 0.6395, 0.7086, 0.9769, 0.0362, 0.4951],\n",
              "         [0.5096, 0.8671, 0.5109, 0.2284, 0.5655, 0.2342],\n",
              "         [0.1213, 0.7055, 0.5602, 0.8858, 0.3298, 0.9688]]),\n",
              " tensor([[0., 0., 0., 0., 0., 0.],\n",
              "         [0., 0., 0., 0., 0., 0.],\n",
              "         [0., 0., 0., 0., 0., 0.]]),\n",
              " tensor([[0.6103, 0.6395, 0.7086, 0.9769, 0.0362, 0.4951],\n",
              "         [0.5096, 0.8671, 0.5109, 0.2284, 0.5655, 0.2342],\n",
              "         [0.1213, 0.7055, 0.5602, 0.8858, 0.3298, 0.9688]]))"
            ]
          },
          "metadata": {},
          "execution_count": 21
        }
      ]
    },
    {
      "cell_type": "code",
      "source": [
        "tp_one = torch.arange(1,100)\n",
        "tp_one"
      ],
      "metadata": {
        "colab": {
          "base_uri": "https://localhost:8080/"
        },
        "id": "_HRC1pegFPir",
        "outputId": "11320901-9db9-410b-89d9-536c887b52f4"
      },
      "execution_count": 22,
      "outputs": [
        {
          "output_type": "execute_result",
          "data": {
            "text/plain": [
              "tensor([ 1,  2,  3,  4,  5,  6,  7,  8,  9, 10, 11, 12, 13, 14, 15, 16, 17, 18,\n",
              "        19, 20, 21, 22, 23, 24, 25, 26, 27, 28, 29, 30, 31, 32, 33, 34, 35, 36,\n",
              "        37, 38, 39, 40, 41, 42, 43, 44, 45, 46, 47, 48, 49, 50, 51, 52, 53, 54,\n",
              "        55, 56, 57, 58, 59, 60, 61, 62, 63, 64, 65, 66, 67, 68, 69, 70, 71, 72,\n",
              "        73, 74, 75, 76, 77, 78, 79, 80, 81, 82, 83, 84, 85, 86, 87, 88, 89, 90,\n",
              "        91, 92, 93, 94, 95, 96, 97, 98, 99])"
            ]
          },
          "metadata": {},
          "execution_count": 22
        }
      ]
    },
    {
      "cell_type": "code",
      "source": [
        "float_32_tensor = torch.tensor([3.0,6.0,9.0],\n",
        "                               dtype=None,\n",
        "                               device=None,\n",
        "                               requires_grad=False)\n",
        "float_32_tensor"
      ],
      "metadata": {
        "colab": {
          "base_uri": "https://localhost:8080/"
        },
        "id": "76oLI0o0XnuF",
        "outputId": "a99b91cc-24ad-49da-f04e-47786a3c1df9"
      },
      "execution_count": 23,
      "outputs": [
        {
          "output_type": "execute_result",
          "data": {
            "text/plain": [
              "tensor([3., 6., 9.])"
            ]
          },
          "metadata": {},
          "execution_count": 23
        }
      ]
    },
    {
      "cell_type": "code",
      "source": [
        "float_32_tensor.dtype"
      ],
      "metadata": {
        "colab": {
          "base_uri": "https://localhost:8080/"
        },
        "id": "2jxZLjx2Z3QX",
        "outputId": "e32cc2d0-baee-4965-871c-a277521532ee"
      },
      "execution_count": 24,
      "outputs": [
        {
          "output_type": "execute_result",
          "data": {
            "text/plain": [
              "torch.float32"
            ]
          },
          "metadata": {},
          "execution_count": 24
        }
      ]
    },
    {
      "cell_type": "code",
      "source": [
        "float_16_tensor = float_32_tensor.type(torch.float16)\n",
        "float_16_tensor"
      ],
      "metadata": {
        "colab": {
          "base_uri": "https://localhost:8080/"
        },
        "id": "5rEA29bKZ-GH",
        "outputId": "fabcef9c-8c18-45b7-a0d7-cb80076ee6db"
      },
      "execution_count": 25,
      "outputs": [
        {
          "output_type": "execute_result",
          "data": {
            "text/plain": [
              "tensor([3., 6., 9.], dtype=torch.float16)"
            ]
          },
          "metadata": {},
          "execution_count": 25
        }
      ]
    },
    {
      "cell_type": "code",
      "source": [
        "float_16_tensor * float_32_tensor"
      ],
      "metadata": {
        "colab": {
          "base_uri": "https://localhost:8080/"
        },
        "id": "Mf4pRlt1aXA2",
        "outputId": "bf72a752-adc6-4550-a8b0-25224e9852f5"
      },
      "execution_count": 26,
      "outputs": [
        {
          "output_type": "execute_result",
          "data": {
            "text/plain": [
              "tensor([ 9., 36., 81.])"
            ]
          },
          "metadata": {},
          "execution_count": 26
        }
      ]
    },
    {
      "cell_type": "code",
      "source": [
        "%%time\n",
        "torch.matmul(float_16_tensor,float_16_tensor)"
      ],
      "metadata": {
        "colab": {
          "base_uri": "https://localhost:8080/"
        },
        "id": "85uGNuuDITCO",
        "outputId": "56fe3b09-e12d-4271-a46b-cdf4dc4cfc56"
      },
      "execution_count": 27,
      "outputs": [
        {
          "output_type": "stream",
          "name": "stdout",
          "text": [
            "CPU times: user 1.09 ms, sys: 19 µs, total: 1.11 ms\n",
            "Wall time: 7.52 ms\n"
          ]
        },
        {
          "output_type": "execute_result",
          "data": {
            "text/plain": [
              "tensor(126., dtype=torch.float16)"
            ]
          },
          "metadata": {},
          "execution_count": 27
        }
      ]
    },
    {
      "cell_type": "code",
      "source": [
        "torch.rand(3,4)"
      ],
      "metadata": {
        "colab": {
          "base_uri": "https://localhost:8080/"
        },
        "id": "9tNPe4ZJIZmY",
        "outputId": "bfb711f0-4fa2-4123-94e2-9880578d96db"
      },
      "execution_count": 28,
      "outputs": [
        {
          "output_type": "execute_result",
          "data": {
            "text/plain": [
              "tensor([[0.4112, 0.4704, 0.3049, 0.8335],\n",
              "        [0.9401, 0.2272, 0.3853, 0.7008],\n",
              "        [0.4301, 0.1936, 0.4274, 0.0792]])"
            ]
          },
          "metadata": {},
          "execution_count": 28
        }
      ]
    },
    {
      "cell_type": "code",
      "source": [
        "torch.rand(3,4)"
      ],
      "metadata": {
        "colab": {
          "base_uri": "https://localhost:8080/"
        },
        "id": "gkntgI-mKyxK",
        "outputId": "46bc9371-6d98-423b-e973-62019e15aa39"
      },
      "execution_count": 29,
      "outputs": [
        {
          "output_type": "execute_result",
          "data": {
            "text/plain": [
              "tensor([[0.8888, 0.9466, 0.4348, 0.7750],\n",
              "        [0.0497, 0.6831, 0.6919, 0.6141],\n",
              "        [0.5106, 0.6539, 0.5550, 0.7674]])"
            ]
          },
          "metadata": {},
          "execution_count": 29
        }
      ]
    },
    {
      "cell_type": "code",
      "source": [
        "torch.matmul(torch.rand(4,3),torch.rand(3,4))"
      ],
      "metadata": {
        "colab": {
          "base_uri": "https://localhost:8080/"
        },
        "id": "6NmeXqJeK1C1",
        "outputId": "b0d58ced-7c8c-4a89-c799-2caee5251e80"
      },
      "execution_count": 30,
      "outputs": [
        {
          "output_type": "execute_result",
          "data": {
            "text/plain": [
              "tensor([[0.8758, 1.0149, 0.3270, 0.6499],\n",
              "        [0.3904, 0.9262, 0.3887, 0.7973],\n",
              "        [0.4579, 0.7704, 0.2613, 0.3858],\n",
              "        [0.8933, 0.8630, 0.2764, 0.6803]])"
            ]
          },
          "metadata": {},
          "execution_count": 30
        }
      ]
    },
    {
      "cell_type": "code",
      "source": [
        "torch_transpose = torch.rand(3,5)\n",
        "torch_transpose"
      ],
      "metadata": {
        "colab": {
          "base_uri": "https://localhost:8080/"
        },
        "id": "Tk1jhV_SLDO8",
        "outputId": "dab05f30-8cf3-4d19-9224-ec1a06e7e0f1"
      },
      "execution_count": 31,
      "outputs": [
        {
          "output_type": "execute_result",
          "data": {
            "text/plain": [
              "tensor([[0.6095, 0.2725, 0.3113, 0.0265, 0.2712],\n",
              "        [0.5393, 0.5469, 0.0837, 0.6951, 0.3916],\n",
              "        [0.5454, 0.6385, 0.7503, 0.9267, 0.0616]])"
            ]
          },
          "metadata": {},
          "execution_count": 31
        }
      ]
    },
    {
      "cell_type": "code",
      "source": [
        "torch_transpose.T"
      ],
      "metadata": {
        "colab": {
          "base_uri": "https://localhost:8080/"
        },
        "id": "sHFYEK2JPnhh",
        "outputId": "37623518-9937-42bc-95c5-5a8baf2bac59"
      },
      "execution_count": 32,
      "outputs": [
        {
          "output_type": "execute_result",
          "data": {
            "text/plain": [
              "tensor([[0.6095, 0.5393, 0.5454],\n",
              "        [0.2725, 0.5469, 0.6385],\n",
              "        [0.3113, 0.0837, 0.7503],\n",
              "        [0.0265, 0.6951, 0.9267],\n",
              "        [0.2712, 0.3916, 0.0616]])"
            ]
          },
          "metadata": {},
          "execution_count": 32
        }
      ]
    },
    {
      "cell_type": "code",
      "source": [
        "torch_transpose.min()\n",
        "torch.min(torch_transpose)\n",
        "torch.argmin(torch_transpose)"
      ],
      "metadata": {
        "colab": {
          "base_uri": "https://localhost:8080/"
        },
        "id": "hDa-R1VPP8mc",
        "outputId": "93b9d317-3de2-49ce-e7da-4e4ed9fb8f7a"
      },
      "execution_count": 41,
      "outputs": [
        {
          "output_type": "execute_result",
          "data": {
            "text/plain": [
              "tensor(0.0265)"
            ]
          },
          "metadata": {},
          "execution_count": 41
        }
      ]
    },
    {
      "cell_type": "code",
      "source": [
        "torch_transpose[0][3]\n"
      ],
      "metadata": {
        "colab": {
          "base_uri": "https://localhost:8080/"
        },
        "id": "RnhNey9ulas3",
        "outputId": "8d9b30ff-3636-4f74-8042-9dfe686d4262"
      },
      "execution_count": 42,
      "outputs": [
        {
          "output_type": "execute_result",
          "data": {
            "text/plain": [
              "tensor(0.0265)"
            ]
          },
          "metadata": {},
          "execution_count": 42
        }
      ]
    },
    {
      "cell_type": "code",
      "source": [],
      "metadata": {
        "id": "7ManGUEal2Sq"
      },
      "execution_count": null,
      "outputs": []
    }
  ]
}
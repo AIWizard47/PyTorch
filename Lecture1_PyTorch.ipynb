{
  "nbformat": 4,
  "nbformat_minor": 0,
  "metadata": {
    "colab": {
      "provenance": []
    },
    "kernelspec": {
      "name": "python3",
      "display_name": "Python 3"
    },
    "language_info": {
      "name": "python"
    }
  },
  "cells": [
    {
      "cell_type": "code",
      "source": [
        "import torch\n",
        "import pandas as pd\n",
        "import numpy as np\n",
        "import matplotlib.pyplot as plt\n",
        "\n",
        "print(torch.__version__)"
      ],
      "metadata": {
        "colab": {
          "base_uri": "https://localhost:8080/"
        },
        "id": "r_n31A7WLTWJ",
        "outputId": "d11f335f-984a-427b-ada3-a839848f6baf"
      },
      "execution_count": 1,
      "outputs": [
        {
          "output_type": "stream",
          "name": "stdout",
          "text": [
            "2.2.1+cu121\n"
          ]
        }
      ]
    },
    {
      "cell_type": "code",
      "source": [
        "scalar = torch.tensor(5)\n",
        "scalar"
      ],
      "metadata": {
        "colab": {
          "base_uri": "https://localhost:8080/"
        },
        "id": "jLLZgPoINAfe",
        "outputId": "a89e52b7-8347-41df-cf46-3399b91ad99c"
      },
      "execution_count": 2,
      "outputs": [
        {
          "output_type": "execute_result",
          "data": {
            "text/plain": [
              "tensor(5)"
            ]
          },
          "metadata": {},
          "execution_count": 2
        }
      ]
    },
    {
      "cell_type": "markdown",
      "source": [
        "**we get scalar number from tensor from dimension**"
      ],
      "metadata": {
        "id": "1hcGr0F8PlQK"
      }
    },
    {
      "cell_type": "code",
      "source": [
        "scalar.ndim\n",
        "scalar.item()"
      ],
      "metadata": {
        "colab": {
          "base_uri": "https://localhost:8080/"
        },
        "id": "jGAIQQUxOeEV",
        "outputId": "45a31394-0e36-4d53-d8c2-3873cc022a01"
      },
      "execution_count": 3,
      "outputs": [
        {
          "output_type": "execute_result",
          "data": {
            "text/plain": [
              "5"
            ]
          },
          "metadata": {},
          "execution_count": 3
        }
      ]
    },
    {
      "cell_type": "code",
      "source": [
        "vector = torch.tensor([3,4])\n",
        "vector"
      ],
      "metadata": {
        "colab": {
          "base_uri": "https://localhost:8080/"
        },
        "id": "BDKWK2_VPbl6",
        "outputId": "32fc5e3b-7552-41e8-f080-b1669fd933e4"
      },
      "execution_count": 4,
      "outputs": [
        {
          "output_type": "execute_result",
          "data": {
            "text/plain": [
              "tensor([3, 4])"
            ]
          },
          "metadata": {},
          "execution_count": 4
        }
      ]
    },
    {
      "cell_type": "code",
      "source": [
        "vector.ndim"
      ],
      "metadata": {
        "colab": {
          "base_uri": "https://localhost:8080/"
        },
        "id": "ewY87cnjRCvf",
        "outputId": "10c5adf0-627d-4974-f531-98e0e1707fa4"
      },
      "execution_count": 5,
      "outputs": [
        {
          "output_type": "execute_result",
          "data": {
            "text/plain": [
              "1"
            ]
          },
          "metadata": {},
          "execution_count": 5
        }
      ]
    },
    {
      "cell_type": "code",
      "source": [
        "vector.shape"
      ],
      "metadata": {
        "colab": {
          "base_uri": "https://localhost:8080/"
        },
        "id": "ZyTtMFWhRE-q",
        "outputId": "da5321ef-90bc-4549-b24e-2ef7900610d9"
      },
      "execution_count": 6,
      "outputs": [
        {
          "output_type": "execute_result",
          "data": {
            "text/plain": [
              "torch.Size([2])"
            ]
          },
          "metadata": {},
          "execution_count": 6
        }
      ]
    },
    {
      "cell_type": "code",
      "source": [
        "matrix = torch.tensor([[3,5],\n",
        "                       [4,2]])\n",
        "matrix"
      ],
      "metadata": {
        "colab": {
          "base_uri": "https://localhost:8080/"
        },
        "id": "ta24koU0RlI0",
        "outputId": "b89f3a94-d744-47d9-b30e-4595199a0b80"
      },
      "execution_count": 7,
      "outputs": [
        {
          "output_type": "execute_result",
          "data": {
            "text/plain": [
              "tensor([[3, 5],\n",
              "        [4, 2]])"
            ]
          },
          "metadata": {},
          "execution_count": 7
        }
      ]
    },
    {
      "cell_type": "code",
      "source": [
        "matrix.ndim"
      ],
      "metadata": {
        "colab": {
          "base_uri": "https://localhost:8080/"
        },
        "id": "fzDxZwhyS7qV",
        "outputId": "cd735149-a2ba-4a6a-b130-d46eaf02aacb"
      },
      "execution_count": 8,
      "outputs": [
        {
          "output_type": "execute_result",
          "data": {
            "text/plain": [
              "2"
            ]
          },
          "metadata": {},
          "execution_count": 8
        }
      ]
    },
    {
      "cell_type": "code",
      "source": [
        "matrix.shape"
      ],
      "metadata": {
        "colab": {
          "base_uri": "https://localhost:8080/"
        },
        "id": "A4dTJfT0TA7b",
        "outputId": "fe8594b4-f813-43ce-dd76-8a0b34d4030b"
      },
      "execution_count": 9,
      "outputs": [
        {
          "output_type": "execute_result",
          "data": {
            "text/plain": [
              "torch.Size([2, 2])"
            ]
          },
          "metadata": {},
          "execution_count": 9
        }
      ]
    },
    {
      "cell_type": "code",
      "source": [
        "print(matrix[1])\n",
        "matrix[0]"
      ],
      "metadata": {
        "colab": {
          "base_uri": "https://localhost:8080/"
        },
        "id": "1DizZvqPTESU",
        "outputId": "87def439-ee93-4360-f733-532cc039e036"
      },
      "execution_count": 10,
      "outputs": [
        {
          "output_type": "stream",
          "name": "stdout",
          "text": [
            "tensor([4, 2])\n"
          ]
        },
        {
          "output_type": "execute_result",
          "data": {
            "text/plain": [
              "tensor([3, 5])"
            ]
          },
          "metadata": {},
          "execution_count": 10
        }
      ]
    },
    {
      "cell_type": "code",
      "source": [
        "TENSOR = torch.tensor([[[3,4,2],\n",
        "                        [6,2,8],\n",
        "                        [3,8,9]]])\n",
        "TENSOR"
      ],
      "metadata": {
        "colab": {
          "base_uri": "https://localhost:8080/"
        },
        "id": "v_amGGP_TMe4",
        "outputId": "9ec9ec86-63c9-4a08-f8a1-b7acc7eb07a0"
      },
      "execution_count": 11,
      "outputs": [
        {
          "output_type": "execute_result",
          "data": {
            "text/plain": [
              "tensor([[[3, 4, 2],\n",
              "         [6, 2, 8],\n",
              "         [3, 8, 9]]])"
            ]
          },
          "metadata": {},
          "execution_count": 11
        }
      ]
    },
    {
      "cell_type": "code",
      "source": [
        "TENSOR.shape"
      ],
      "metadata": {
        "colab": {
          "base_uri": "https://localhost:8080/"
        },
        "id": "XWeUmNTHUvVd",
        "outputId": "c4f8f140-f31d-4521-95ef-7ab2f250dac6"
      },
      "execution_count": 12,
      "outputs": [
        {
          "output_type": "execute_result",
          "data": {
            "text/plain": [
              "torch.Size([1, 3, 3])"
            ]
          },
          "metadata": {},
          "execution_count": 12
        }
      ]
    },
    {
      "cell_type": "code",
      "source": [
        "TENSOR.ndim"
      ],
      "metadata": {
        "colab": {
          "base_uri": "https://localhost:8080/"
        },
        "id": "_ODnLtUIVHIB",
        "outputId": "a81cdea3-7ea8-49eb-ad6c-a387885ceaab"
      },
      "execution_count": 13,
      "outputs": [
        {
          "output_type": "execute_result",
          "data": {
            "text/plain": [
              "3"
            ]
          },
          "metadata": {},
          "execution_count": 13
        }
      ]
    },
    {
      "cell_type": "code",
      "source": [
        "random_tensor = torch.rand(4,4,5)\n",
        "random_tensor"
      ],
      "metadata": {
        "colab": {
          "base_uri": "https://localhost:8080/"
        },
        "id": "kdXNkB2kVKvA",
        "outputId": "2407b5e1-f54f-47fd-b1a9-f2018788d5de"
      },
      "execution_count": 14,
      "outputs": [
        {
          "output_type": "execute_result",
          "data": {
            "text/plain": [
              "tensor([[[0.9465, 0.1068, 0.5423, 0.4311, 0.8922],\n",
              "         [0.8017, 0.6851, 0.0990, 0.4676, 0.8662],\n",
              "         [0.9425, 0.2700, 0.2321, 0.0741, 0.2169],\n",
              "         [0.2315, 0.3301, 0.9577, 0.4175, 0.7922]],\n",
              "\n",
              "        [[0.5357, 0.1945, 0.4216, 0.7087, 0.1281],\n",
              "         [0.6465, 0.9766, 0.5235, 0.3146, 0.0010],\n",
              "         [0.5823, 0.9421, 0.3704, 0.1084, 0.1426],\n",
              "         [0.1972, 0.8347, 0.8639, 0.1468, 0.1311]],\n",
              "\n",
              "        [[0.0735, 0.0864, 0.5862, 0.7297, 0.4886],\n",
              "         [0.1779, 0.7955, 0.0752, 0.1108, 0.8211],\n",
              "         [0.4351, 0.0667, 0.1948, 0.7140, 0.3305],\n",
              "         [0.7913, 0.4312, 0.5907, 0.9312, 0.8194]],\n",
              "\n",
              "        [[0.5349, 0.2059, 0.5591, 0.2319, 0.9819],\n",
              "         [0.1364, 0.4091, 0.9589, 0.4778, 0.3572],\n",
              "         [0.8808, 0.9888, 0.6835, 0.8294, 0.1159],\n",
              "         [0.5865, 0.5157, 0.1097, 0.1504, 0.4762]]])"
            ]
          },
          "metadata": {},
          "execution_count": 14
        }
      ]
    },
    {
      "cell_type": "code",
      "source": [
        "n = 5\n",
        "for i in range(n):\n",
        "  random_tensor = torch.rand(3,3)\n",
        "  print(random_tensor)"
      ],
      "metadata": {
        "colab": {
          "base_uri": "https://localhost:8080/"
        },
        "id": "FLJ4mYuoaSO0",
        "outputId": "f3d5cbfe-eef9-4c44-8f40-f191d64c471a"
      },
      "execution_count": 15,
      "outputs": [
        {
          "output_type": "stream",
          "name": "stdout",
          "text": [
            "tensor([[0.4756, 0.4456, 0.0128],\n",
            "        [0.6265, 0.2338, 0.9655],\n",
            "        [0.7336, 0.4451, 0.3712]])\n",
            "tensor([[0.7535, 0.2031, 0.2359],\n",
            "        [0.3097, 0.3778, 0.1750],\n",
            "        [0.3339, 0.5765, 0.5563]])\n",
            "tensor([[0.6602, 0.0452, 0.4493],\n",
            "        [0.9172, 0.9403, 0.5016],\n",
            "        [0.7220, 0.9133, 0.5470]])\n",
            "tensor([[0.3195, 0.7200, 0.1010],\n",
            "        [0.8832, 0.0209, 0.1266],\n",
            "        [0.9576, 0.2749, 0.7240]])\n",
            "tensor([[0.6327, 0.0743, 0.1000],\n",
            "        [0.7578, 0.5573, 0.9293],\n",
            "        [0.5333, 0.2895, 0.2862]])\n"
          ]
        }
      ]
    },
    {
      "cell_type": "code",
      "source": [
        "for i in range(n):\n",
        "  random_tensor = torch.rand(5,4)\n",
        "  print(random_tensor)"
      ],
      "metadata": {
        "colab": {
          "base_uri": "https://localhost:8080/"
        },
        "id": "SjunbKFgakDz",
        "outputId": "74eae9a2-bca5-4545-a111-148014c8346b"
      },
      "execution_count": 16,
      "outputs": [
        {
          "output_type": "stream",
          "name": "stdout",
          "text": [
            "tensor([[0.0267, 0.4815, 0.3222, 0.0829],\n",
            "        [0.2761, 0.4225, 0.8899, 0.5447],\n",
            "        [0.8100, 0.2436, 0.6022, 0.3358],\n",
            "        [0.0060, 0.7865, 0.8646, 0.6961],\n",
            "        [0.3872, 0.2680, 0.7457, 0.9078]])\n",
            "tensor([[0.7145, 0.2506, 0.3707, 0.4150],\n",
            "        [0.2383, 0.8235, 0.1430, 0.6876],\n",
            "        [0.6795, 0.6894, 0.4560, 0.1046],\n",
            "        [0.3418, 0.8954, 0.8760, 0.0369],\n",
            "        [0.9554, 0.4357, 0.3255, 0.6649]])\n",
            "tensor([[0.7528, 0.9594, 0.2983, 0.6023],\n",
            "        [0.4901, 0.2547, 0.0124, 0.4658],\n",
            "        [0.2717, 0.9798, 0.1649, 0.1577],\n",
            "        [0.6797, 0.0126, 0.3323, 0.8954],\n",
            "        [0.3048, 0.1264, 0.2806, 0.4837]])\n",
            "tensor([[0.9273, 0.5071, 0.4593, 0.5351],\n",
            "        [0.7639, 0.3945, 0.5417, 0.2812],\n",
            "        [0.2631, 0.7565, 0.4944, 0.6642],\n",
            "        [0.9017, 0.7295, 0.7725, 0.4835],\n",
            "        [0.4680, 0.6287, 0.1307, 0.4003]])\n",
            "tensor([[0.6995, 0.1896, 0.5573, 0.1633],\n",
            "        [0.2842, 0.4261, 0.3061, 0.7109],\n",
            "        [0.1550, 0.9190, 0.4179, 0.3866],\n",
            "        [0.2220, 0.9441, 0.4875, 0.1983],\n",
            "        [0.1156, 0.4268, 0.2434, 0.3868]])\n"
          ]
        }
      ]
    },
    {
      "cell_type": "code",
      "source": [
        "random_tensor_size_tensor = torch.rand(size=(3,224,224)) # this is color channel , hieght , width\n",
        "random_tensor_size_tensor.shape , random_tensor_size_tensor.ndim"
      ],
      "metadata": {
        "id": "cdAwopqJzGDl",
        "colab": {
          "base_uri": "https://localhost:8080/"
        },
        "outputId": "137d53ec-471e-4cda-f248-1be9cb5d86de"
      },
      "execution_count": 17,
      "outputs": [
        {
          "output_type": "execute_result",
          "data": {
            "text/plain": [
              "(torch.Size([3, 224, 224]), 3)"
            ]
          },
          "metadata": {},
          "execution_count": 17
        }
      ]
    },
    {
      "cell_type": "code",
      "source": [
        "print(random_tensor_size_tensor)"
      ],
      "metadata": {
        "colab": {
          "base_uri": "https://localhost:8080/"
        },
        "id": "0IDTUzqsBnBV",
        "outputId": "d6a185ef-b6d5-43cd-8621-02e4c9359886"
      },
      "execution_count": 18,
      "outputs": [
        {
          "output_type": "stream",
          "name": "stdout",
          "text": [
            "tensor([[[0.0289, 0.0371, 0.3701,  ..., 0.7301, 0.3399, 0.9715],\n",
            "         [0.9126, 0.8378, 0.8045,  ..., 0.6105, 0.7546, 0.2890],\n",
            "         [0.4509, 0.7019, 0.1275,  ..., 0.4977, 0.9727, 0.4044],\n",
            "         ...,\n",
            "         [0.9514, 0.7049, 0.0295,  ..., 0.7252, 0.6036, 0.8746],\n",
            "         [0.4769, 0.6965, 0.6499,  ..., 0.6528, 0.5207, 0.7133],\n",
            "         [0.8700, 0.0023, 0.2863,  ..., 0.7685, 0.9797, 0.6738]],\n",
            "\n",
            "        [[0.8108, 0.4620, 0.0103,  ..., 0.5757, 0.8791, 0.2511],\n",
            "         [0.3544, 0.4178, 0.5702,  ..., 0.7580, 0.1216, 0.0540],\n",
            "         [0.3945, 0.8106, 0.1767,  ..., 0.9594, 0.8887, 0.8091],\n",
            "         ...,\n",
            "         [0.3226, 0.6473, 0.1559,  ..., 0.9606, 0.6667, 0.8446],\n",
            "         [0.3041, 0.7804, 0.6135,  ..., 0.9938, 0.3686, 0.0102],\n",
            "         [0.7354, 0.2151, 0.7942,  ..., 0.5980, 0.8436, 0.8372]],\n",
            "\n",
            "        [[0.5761, 0.2809, 0.4564,  ..., 0.7126, 0.9445, 0.9035],\n",
            "         [0.6229, 0.8376, 0.6721,  ..., 0.0681, 0.4278, 0.7953],\n",
            "         [0.0707, 0.6942, 0.0146,  ..., 0.6787, 0.3966, 0.7246],\n",
            "         ...,\n",
            "         [0.2573, 0.6440, 0.7363,  ..., 0.0802, 0.2353, 0.7665],\n",
            "         [0.8907, 0.9924, 0.8451,  ..., 0.4425, 0.2614, 0.3197],\n",
            "         [0.4453, 0.7872, 0.9972,  ..., 0.3438, 0.7529, 0.4390]]])\n"
          ]
        }
      ]
    },
    {
      "cell_type": "code",
      "source": [
        "zeros = torch.zeros(size=(3,6))\n",
        "zeros"
      ],
      "metadata": {
        "colab": {
          "base_uri": "https://localhost:8080/"
        },
        "id": "V4WVSxf5B5C9",
        "outputId": "572a5a4d-3f27-4017-b7b1-b3a5605072e2"
      },
      "execution_count": 19,
      "outputs": [
        {
          "output_type": "execute_result",
          "data": {
            "text/plain": [
              "tensor([[0., 0., 0., 0., 0., 0.],\n",
              "        [0., 0., 0., 0., 0., 0.],\n",
              "        [0., 0., 0., 0., 0., 0.]])"
            ]
          },
          "metadata": {},
          "execution_count": 19
        }
      ]
    },
    {
      "cell_type": "code",
      "source": [
        "ones = torch.ones(size=(3,6))\n",
        "ones\n"
      ],
      "metadata": {
        "colab": {
          "base_uri": "https://localhost:8080/"
        },
        "id": "7RbkxfL6E9m2",
        "outputId": "313b55fd-875c-45e1-dd6d-1ec39ac149e2"
      },
      "execution_count": 20,
      "outputs": [
        {
          "output_type": "execute_result",
          "data": {
            "text/plain": [
              "tensor([[1., 1., 1., 1., 1., 1.],\n",
              "        [1., 1., 1., 1., 1., 1.],\n",
              "        [1., 1., 1., 1., 1., 1.]])"
            ]
          },
          "metadata": {},
          "execution_count": 20
        }
      ]
    },
    {
      "cell_type": "code",
      "source": [
        "tensor_rand = torch.rand(size=(3,6))\n",
        "tensor_rand , tensor_rand * zeros , tensor_rand * ones"
      ],
      "metadata": {
        "colab": {
          "base_uri": "https://localhost:8080/"
        },
        "id": "rg3d1kdRFDdr",
        "outputId": "8f52adca-3f52-4019-989e-8ec8be29907f"
      },
      "execution_count": 21,
      "outputs": [
        {
          "output_type": "execute_result",
          "data": {
            "text/plain": [
              "(tensor([[0.0306, 0.0587, 0.9755, 0.4456, 0.2066, 0.7820],\n",
              "         [0.4941, 0.1225, 0.5989, 0.2776, 0.8662, 0.7604],\n",
              "         [0.0079, 0.9988, 0.9673, 0.0107, 0.5200, 0.5653]]),\n",
              " tensor([[0., 0., 0., 0., 0., 0.],\n",
              "         [0., 0., 0., 0., 0., 0.],\n",
              "         [0., 0., 0., 0., 0., 0.]]),\n",
              " tensor([[0.0306, 0.0587, 0.9755, 0.4456, 0.2066, 0.7820],\n",
              "         [0.4941, 0.1225, 0.5989, 0.2776, 0.8662, 0.7604],\n",
              "         [0.0079, 0.9988, 0.9673, 0.0107, 0.5200, 0.5653]]))"
            ]
          },
          "metadata": {},
          "execution_count": 21
        }
      ]
    },
    {
      "cell_type": "code",
      "source": [
        "tp_one = torch.arange(1,100)\n",
        "tp_one"
      ],
      "metadata": {
        "colab": {
          "base_uri": "https://localhost:8080/"
        },
        "id": "_HRC1pegFPir",
        "outputId": "8639b98a-f6b8-4e25-972e-91081635c79d"
      },
      "execution_count": 22,
      "outputs": [
        {
          "output_type": "execute_result",
          "data": {
            "text/plain": [
              "tensor([ 1,  2,  3,  4,  5,  6,  7,  8,  9, 10, 11, 12, 13, 14, 15, 16, 17, 18,\n",
              "        19, 20, 21, 22, 23, 24, 25, 26, 27, 28, 29, 30, 31, 32, 33, 34, 35, 36,\n",
              "        37, 38, 39, 40, 41, 42, 43, 44, 45, 46, 47, 48, 49, 50, 51, 52, 53, 54,\n",
              "        55, 56, 57, 58, 59, 60, 61, 62, 63, 64, 65, 66, 67, 68, 69, 70, 71, 72,\n",
              "        73, 74, 75, 76, 77, 78, 79, 80, 81, 82, 83, 84, 85, 86, 87, 88, 89, 90,\n",
              "        91, 92, 93, 94, 95, 96, 97, 98, 99])"
            ]
          },
          "metadata": {},
          "execution_count": 22
        }
      ]
    },
    {
      "cell_type": "code",
      "source": [
        "float_32_tensor = torch.tensor([3.0,6.0,9.0],\n",
        "                               dtype=None,\n",
        "                               device=None,\n",
        "                               requires_grad=False)\n",
        "float_32_tensor"
      ],
      "metadata": {
        "colab": {
          "base_uri": "https://localhost:8080/"
        },
        "id": "76oLI0o0XnuF",
        "outputId": "072d370d-9151-463f-fe66-d26beab6a1b8"
      },
      "execution_count": 23,
      "outputs": [
        {
          "output_type": "execute_result",
          "data": {
            "text/plain": [
              "tensor([3., 6., 9.])"
            ]
          },
          "metadata": {},
          "execution_count": 23
        }
      ]
    },
    {
      "cell_type": "code",
      "source": [
        "float_32_tensor.dtype"
      ],
      "metadata": {
        "colab": {
          "base_uri": "https://localhost:8080/"
        },
        "id": "2jxZLjx2Z3QX",
        "outputId": "a4d78330-62a2-4444-cb64-bfc9a8ccc325"
      },
      "execution_count": 24,
      "outputs": [
        {
          "output_type": "execute_result",
          "data": {
            "text/plain": [
              "torch.float32"
            ]
          },
          "metadata": {},
          "execution_count": 24
        }
      ]
    },
    {
      "cell_type": "code",
      "source": [
        "float_16_tensor = float_32_tensor.type(torch.float16)\n",
        "float_16_tensor"
      ],
      "metadata": {
        "colab": {
          "base_uri": "https://localhost:8080/"
        },
        "id": "5rEA29bKZ-GH",
        "outputId": "13bcf1a3-4ff5-4415-a10c-0c262a875d34"
      },
      "execution_count": 25,
      "outputs": [
        {
          "output_type": "execute_result",
          "data": {
            "text/plain": [
              "tensor([3., 6., 9.], dtype=torch.float16)"
            ]
          },
          "metadata": {},
          "execution_count": 25
        }
      ]
    },
    {
      "cell_type": "code",
      "source": [
        "float_16_tensor * float_32_tensor"
      ],
      "metadata": {
        "colab": {
          "base_uri": "https://localhost:8080/"
        },
        "id": "Mf4pRlt1aXA2",
        "outputId": "f9ae31da-72cb-41c8-873b-cb27f6453dc3"
      },
      "execution_count": 26,
      "outputs": [
        {
          "output_type": "execute_result",
          "data": {
            "text/plain": [
              "tensor([ 9., 36., 81.])"
            ]
          },
          "metadata": {},
          "execution_count": 26
        }
      ]
    },
    {
      "cell_type": "code",
      "source": [
        "%%time\n",
        "torch.matmul(float_16_tensor,float_16_tensor)"
      ],
      "metadata": {
        "colab": {
          "base_uri": "https://localhost:8080/"
        },
        "id": "85uGNuuDITCO",
        "outputId": "1c2bdc41-35c7-43cd-97f8-eacec229566b"
      },
      "execution_count": 27,
      "outputs": [
        {
          "output_type": "stream",
          "name": "stdout",
          "text": [
            "CPU times: user 0 ns, sys: 531 µs, total: 531 µs\n",
            "Wall time: 6.73 ms\n"
          ]
        },
        {
          "output_type": "execute_result",
          "data": {
            "text/plain": [
              "tensor(126., dtype=torch.float16)"
            ]
          },
          "metadata": {},
          "execution_count": 27
        }
      ]
    },
    {
      "cell_type": "code",
      "source": [
        "torch.rand(3,4)"
      ],
      "metadata": {
        "colab": {
          "base_uri": "https://localhost:8080/"
        },
        "id": "9tNPe4ZJIZmY",
        "outputId": "7827efb9-75c2-4a16-87b0-9d00f073677d"
      },
      "execution_count": 28,
      "outputs": [
        {
          "output_type": "execute_result",
          "data": {
            "text/plain": [
              "tensor([[0.6441, 0.9778, 0.5515, 0.0722],\n",
              "        [0.8029, 0.2157, 0.8162, 0.0919],\n",
              "        [0.4427, 0.4549, 0.7477, 0.4135]])"
            ]
          },
          "metadata": {},
          "execution_count": 28
        }
      ]
    },
    {
      "cell_type": "code",
      "source": [
        "torch.rand(3,4)"
      ],
      "metadata": {
        "colab": {
          "base_uri": "https://localhost:8080/"
        },
        "id": "gkntgI-mKyxK",
        "outputId": "135f2ba4-e029-488c-f69e-8afeaab5d40f"
      },
      "execution_count": 29,
      "outputs": [
        {
          "output_type": "execute_result",
          "data": {
            "text/plain": [
              "tensor([[0.8669, 0.6413, 0.8283, 0.5759],\n",
              "        [0.0403, 0.5663, 0.0398, 0.1714],\n",
              "        [0.3632, 0.1301, 0.4578, 0.7553]])"
            ]
          },
          "metadata": {},
          "execution_count": 29
        }
      ]
    },
    {
      "cell_type": "code",
      "source": [
        "torch.matmul(torch.rand(4,3),torch.rand(3,4))"
      ],
      "metadata": {
        "colab": {
          "base_uri": "https://localhost:8080/"
        },
        "id": "6NmeXqJeK1C1",
        "outputId": "05a25607-3422-478d-e6b1-ce79240f2f3d"
      },
      "execution_count": 30,
      "outputs": [
        {
          "output_type": "execute_result",
          "data": {
            "text/plain": [
              "tensor([[0.7717, 0.7260, 1.2659, 0.6281],\n",
              "        [0.3002, 0.2532, 0.4606, 0.2516],\n",
              "        [0.5824, 0.9346, 1.0384, 0.4841],\n",
              "        [0.3086, 0.7201, 0.7357, 0.2196]])"
            ]
          },
          "metadata": {},
          "execution_count": 30
        }
      ]
    },
    {
      "cell_type": "code",
      "source": [
        "torch_transpose = torch.rand(3,5)\n",
        "torch_transpose"
      ],
      "metadata": {
        "colab": {
          "base_uri": "https://localhost:8080/"
        },
        "id": "Tk1jhV_SLDO8",
        "outputId": "ad6735c5-72e8-4dd5-839b-a71ade1cda22"
      },
      "execution_count": 31,
      "outputs": [
        {
          "output_type": "execute_result",
          "data": {
            "text/plain": [
              "tensor([[0.8682, 0.1867, 0.1454, 0.1210, 0.3076],\n",
              "        [0.2146, 0.5359, 0.5494, 0.2930, 0.3606],\n",
              "        [0.0013, 0.4358, 0.9400, 0.0916, 0.7844]])"
            ]
          },
          "metadata": {},
          "execution_count": 31
        }
      ]
    },
    {
      "cell_type": "code",
      "source": [
        "torch_transpose.T"
      ],
      "metadata": {
        "colab": {
          "base_uri": "https://localhost:8080/"
        },
        "id": "sHFYEK2JPnhh",
        "outputId": "822724b7-93c3-44f1-82a4-188dbcb7ff3e"
      },
      "execution_count": 32,
      "outputs": [
        {
          "output_type": "execute_result",
          "data": {
            "text/plain": [
              "tensor([[0.8682, 0.2146, 0.0013],\n",
              "        [0.1867, 0.5359, 0.4358],\n",
              "        [0.1454, 0.5494, 0.9400],\n",
              "        [0.1210, 0.2930, 0.0916],\n",
              "        [0.3076, 0.3606, 0.7844]])"
            ]
          },
          "metadata": {},
          "execution_count": 32
        }
      ]
    },
    {
      "cell_type": "code",
      "source": [
        "torch_transpose.min()\n",
        "torch.min(torch_transpose)\n",
        "torch.argmin(torch_transpose)"
      ],
      "metadata": {
        "colab": {
          "base_uri": "https://localhost:8080/"
        },
        "id": "hDa-R1VPP8mc",
        "outputId": "f63caf66-9074-4ba3-81f2-eb815c7dc32c"
      },
      "execution_count": 33,
      "outputs": [
        {
          "output_type": "execute_result",
          "data": {
            "text/plain": [
              "tensor(10)"
            ]
          },
          "metadata": {},
          "execution_count": 33
        }
      ]
    },
    {
      "cell_type": "code",
      "source": [
        "torch_transpose[0][3]\n"
      ],
      "metadata": {
        "colab": {
          "base_uri": "https://localhost:8080/"
        },
        "id": "RnhNey9ulas3",
        "outputId": "c2909b0e-4780-416e-f517-eb28908088e9"
      },
      "execution_count": 34,
      "outputs": [
        {
          "output_type": "execute_result",
          "data": {
            "text/plain": [
              "tensor(0.1210)"
            ]
          },
          "metadata": {},
          "execution_count": 34
        }
      ]
    },
    {
      "cell_type": "code",
      "source": [
        "tensor_permute = torch.rand(size=(224,224,3))\n",
        "tensor_permute"
      ],
      "metadata": {
        "id": "7ManGUEal2Sq",
        "colab": {
          "base_uri": "https://localhost:8080/"
        },
        "outputId": "bb0ab523-a079-4e73-c547-c39e60d4131d"
      },
      "execution_count": 35,
      "outputs": [
        {
          "output_type": "execute_result",
          "data": {
            "text/plain": [
              "tensor([[[0.0918, 0.9540, 0.4863],\n",
              "         [0.7520, 0.2981, 0.6500],\n",
              "         [0.5324, 0.3724, 0.2437],\n",
              "         ...,\n",
              "         [0.6346, 0.5439, 0.4734],\n",
              "         [0.0861, 0.1716, 0.9347],\n",
              "         [0.0822, 0.7235, 0.6099]],\n",
              "\n",
              "        [[0.5385, 0.4036, 0.3119],\n",
              "         [0.6088, 0.1736, 0.1110],\n",
              "         [0.8852, 0.8520, 0.8975],\n",
              "         ...,\n",
              "         [0.5751, 0.3225, 0.5793],\n",
              "         [0.8877, 0.1857, 0.3481],\n",
              "         [0.2380, 0.4832, 0.0167]],\n",
              "\n",
              "        [[0.8697, 0.3441, 0.3999],\n",
              "         [0.7610, 0.8335, 0.8771],\n",
              "         [0.1260, 0.3815, 0.0882],\n",
              "         ...,\n",
              "         [0.2286, 0.2120, 0.4911],\n",
              "         [0.8548, 0.3567, 0.3182],\n",
              "         [0.6979, 0.6544, 0.1659]],\n",
              "\n",
              "        ...,\n",
              "\n",
              "        [[0.5411, 0.6308, 0.5135],\n",
              "         [0.5295, 0.9639, 0.9134],\n",
              "         [0.1039, 0.9551, 0.9074],\n",
              "         ...,\n",
              "         [0.6819, 0.2925, 0.8865],\n",
              "         [0.2527, 0.6391, 0.9631],\n",
              "         [0.2249, 0.5685, 0.5320]],\n",
              "\n",
              "        [[0.4777, 0.3816, 0.9284],\n",
              "         [0.3698, 0.8637, 0.6215],\n",
              "         [0.3761, 0.0515, 0.5331],\n",
              "         ...,\n",
              "         [0.9956, 0.5179, 0.5257],\n",
              "         [0.3603, 0.7335, 0.8035],\n",
              "         [0.2761, 0.9642, 0.6511]],\n",
              "\n",
              "        [[0.6205, 0.1576, 0.7909],\n",
              "         [0.0353, 0.6494, 0.8036],\n",
              "         [0.5077, 0.2220, 0.5851],\n",
              "         ...,\n",
              "         [0.7458, 0.8092, 0.1305],\n",
              "         [0.8612, 0.7103, 0.9572],\n",
              "         [0.8870, 0.4991, 0.0646]]])"
            ]
          },
          "metadata": {},
          "execution_count": 35
        }
      ]
    },
    {
      "cell_type": "code",
      "source": [
        "torch.permute(tensor_permute,(1,2,0)).shape"
      ],
      "metadata": {
        "colab": {
          "base_uri": "https://localhost:8080/"
        },
        "id": "gqj_DiA4MyvV",
        "outputId": "ea5626b9-ca30-4f4c-9017-fec8c53635d2"
      },
      "execution_count": 36,
      "outputs": [
        {
          "output_type": "execute_result",
          "data": {
            "text/plain": [
              "torch.Size([224, 3, 224])"
            ]
          },
          "metadata": {},
          "execution_count": 36
        }
      ]
    },
    {
      "cell_type": "code",
      "source": [
        "# @title PyTorch Tensor and NumPy\n"
      ],
      "metadata": {
        "id": "joqfFGDoNMFx"
      },
      "execution_count": 37,
      "outputs": []
    },
    {
      "cell_type": "code",
      "source": [
        "array = np.arange(1.0,9.0)\n",
        "tensor = torch.from_numpy(array)\n",
        "array , tensor"
      ],
      "metadata": {
        "colab": {
          "base_uri": "https://localhost:8080/"
        },
        "id": "3jBZfCDHXa-u",
        "outputId": "3a556121-1044-47a0-a771-24b4274c1b66"
      },
      "execution_count": 38,
      "outputs": [
        {
          "output_type": "execute_result",
          "data": {
            "text/plain": [
              "(array([1., 2., 3., 4., 5., 6., 7., 8.]),\n",
              " tensor([1., 2., 3., 4., 5., 6., 7., 8.], dtype=torch.float64))"
            ]
          },
          "metadata": {},
          "execution_count": 38
        }
      ]
    },
    {
      "cell_type": "markdown",
      "source": [
        "## Reproducbility (Trying to take random out of random)\n",
        "\n",
        "To reduced the randomness in neural network and pytorch comes the concept of a\n",
        "**Random seed**"
      ],
      "metadata": {
        "id": "wViZCkliZete"
      }
    },
    {
      "cell_type": "code",
      "source": [
        "import torch\n",
        "\n",
        "random_torch_A = torch.rand(3,4)\n",
        "random_torch_B = torch.rand(3,4)\n",
        "\n",
        "print(random_torch_A)\n",
        "print(random_torch_B)\n",
        "print(random_torch_A == random_torch_B)\n"
      ],
      "metadata": {
        "colab": {
          "base_uri": "https://localhost:8080/"
        },
        "id": "Zgvdole2__VG",
        "outputId": "8899eb2f-5051-42de-f283-80e6e97dd50b"
      },
      "execution_count": 39,
      "outputs": [
        {
          "output_type": "stream",
          "name": "stdout",
          "text": [
            "tensor([[0.6732, 0.8511, 0.7474, 0.5347],\n",
            "        [0.0290, 0.9357, 0.1305, 0.0947],\n",
            "        [0.3109, 0.6222, 0.1692, 0.0963]])\n",
            "tensor([[0.7871, 0.9906, 0.1565, 0.6593],\n",
            "        [0.8857, 0.0115, 0.3912, 0.0798],\n",
            "        [0.5906, 0.9607, 0.2206, 0.5245]])\n",
            "tensor([[False, False, False, False],\n",
            "        [False, False, False, False],\n",
            "        [False, False, False, False]])\n"
          ]
        }
      ]
    },
    {
      "cell_type": "code",
      "source": [
        "torch.rand(3,3)"
      ],
      "metadata": {
        "id": "FuC_6gIUXwsy",
        "colab": {
          "base_uri": "https://localhost:8080/"
        },
        "outputId": "96823060-21ae-4add-ed27-c4b4b7d01d98"
      },
      "execution_count": 40,
      "outputs": [
        {
          "output_type": "execute_result",
          "data": {
            "text/plain": [
              "tensor([[0.4843, 0.9358, 0.4848],\n",
              "        [0.4766, 0.0138, 0.0926],\n",
              "        [0.0188, 0.6391, 0.6502]])"
            ]
          },
          "metadata": {},
          "execution_count": 40
        }
      ]
    },
    {
      "cell_type": "code",
      "source": [
        "RANDOM_SEED = 42\n",
        "torch.manual_seed(RANDOM_SEED)\n",
        "random_tensor_a = torch.rand(3,4)\n",
        "torch.manual_seed(RANDOM_SEED)\n",
        "random_tensor_b = torch.rand(3,4)\n",
        "\n",
        "print(random_tensor_a)\n",
        "print(random_tensor_b)\n",
        "print(random_tensor_a == random_tensor_b)\n"
      ],
      "metadata": {
        "colab": {
          "base_uri": "https://localhost:8080/"
        },
        "id": "2XbGcZ0rAbkk",
        "outputId": "e165c4e0-d530-492b-9388-f7b4bb58920b"
      },
      "execution_count": 41,
      "outputs": [
        {
          "output_type": "stream",
          "name": "stdout",
          "text": [
            "tensor([[0.8823, 0.9150, 0.3829, 0.9593],\n",
            "        [0.3904, 0.6009, 0.2566, 0.7936],\n",
            "        [0.9408, 0.1332, 0.9346, 0.5936]])\n",
            "tensor([[0.8823, 0.9150, 0.3829, 0.9593],\n",
            "        [0.3904, 0.6009, 0.2566, 0.7936],\n",
            "        [0.9408, 0.1332, 0.9346, 0.5936]])\n",
            "tensor([[True, True, True, True],\n",
            "        [True, True, True, True],\n",
            "        [True, True, True, True]])\n"
          ]
        }
      ]
    },
    {
      "cell_type": "code",
      "source": [
        "!nvidia-smi"
      ],
      "metadata": {
        "colab": {
          "base_uri": "https://localhost:8080/"
        },
        "id": "m5lyN6hLB2gq",
        "outputId": "a0143a48-4f6c-4659-b65e-b35f36969e71"
      },
      "execution_count": 42,
      "outputs": [
        {
          "output_type": "stream",
          "name": "stdout",
          "text": [
            "/bin/bash: line 1: nvidia-smi: command not found\n"
          ]
        }
      ]
    },
    {
      "cell_type": "code",
      "source": [
        "torch.cuda.is_available()"
      ],
      "metadata": {
        "colab": {
          "base_uri": "https://localhost:8080/"
        },
        "id": "w0J7zY-5FgHi",
        "outputId": "d27f5e10-33d1-4ec5-963f-3b95ec4cab64"
      },
      "execution_count": 43,
      "outputs": [
        {
          "output_type": "execute_result",
          "data": {
            "text/plain": [
              "False"
            ]
          },
          "metadata": {},
          "execution_count": 43
        }
      ]
    },
    {
      "cell_type": "code",
      "source": [
        "device = \"cuda\" if torch.cuda.is_available() else \"cpu\"\n",
        "device"
      ],
      "metadata": {
        "colab": {
          "base_uri": "https://localhost:8080/",
          "height": 36
        },
        "id": "EfhqiblzGsCE",
        "outputId": "739d7789-4669-4954-96bb-99215856cb4a"
      },
      "execution_count": 44,
      "outputs": [
        {
          "output_type": "execute_result",
          "data": {
            "text/plain": [
              "'cpu'"
            ],
            "application/vnd.google.colaboratory.intrinsic+json": {
              "type": "string"
            }
          },
          "metadata": {},
          "execution_count": 44
        }
      ]
    },
    {
      "cell_type": "code",
      "source": [
        "torch.cuda.device_count()"
      ],
      "metadata": {
        "colab": {
          "base_uri": "https://localhost:8080/"
        },
        "id": "DaIGS5rnG028",
        "outputId": "4a91acaa-3ec2-4f67-b44f-f8fc062e736d"
      },
      "execution_count": 45,
      "outputs": [
        {
          "output_type": "execute_result",
          "data": {
            "text/plain": [
              "0"
            ]
          },
          "metadata": {},
          "execution_count": 45
        }
      ]
    },
    {
      "cell_type": "code",
      "source": [
        "tensor_device = torch.tensor([3,4,5])\n",
        "print(tensor_device, tensor.device)"
      ],
      "metadata": {
        "colab": {
          "base_uri": "https://localhost:8080/"
        },
        "id": "P9ld_Dg5Hjhg",
        "outputId": "9607a9dd-8413-4311-9ed7-4a69568316db"
      },
      "execution_count": 46,
      "outputs": [
        {
          "output_type": "stream",
          "name": "stdout",
          "text": [
            "tensor([3, 4, 5]) cpu\n"
          ]
        }
      ]
    },
    {
      "cell_type": "code",
      "source": [],
      "metadata": {
        "id": "3BBiTetLNDRr"
      },
      "execution_count": null,
      "outputs": []
    },
    {
      "cell_type": "code",
      "source": [
        "tensor_on_gpu = tensor_device.to(device)\n",
        "tensor_on_gpu"
      ],
      "metadata": {
        "colab": {
          "base_uri": "https://localhost:8080/"
        },
        "id": "PSxx8bAgJLiU",
        "outputId": "53793fbf-65c4-4954-cd56-b8d25bc0c7ac"
      },
      "execution_count": 47,
      "outputs": [
        {
          "output_type": "execute_result",
          "data": {
            "text/plain": [
              "tensor([3, 4, 5])"
            ]
          },
          "metadata": {},
          "execution_count": 47
        }
      ]
    },
    {
      "cell_type": "code",
      "source": [],
      "metadata": {
        "id": "GhC9aY6_Kf3X"
      },
      "execution_count": 47,
      "outputs": []
    }
  ]
}